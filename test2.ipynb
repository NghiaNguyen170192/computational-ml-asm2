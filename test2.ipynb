{
 "metadata": {
  "kernelspec": {
   "language": "python",
   "display_name": "Python 3",
   "name": "python3"
  },
  "language_info": {
   "name": "python",
   "version": "3.10.12",
   "mimetype": "text/x-python",
   "codemirror_mode": {
    "name": "ipython",
    "version": 3
   },
   "pygments_lexer": "ipython3",
   "nbconvert_exporter": "python",
   "file_extension": ".py"
  },
  "kaggle": {
   "accelerator": "none",
   "dataSources": [
    {
     "sourceId": 7235980,
     "sourceType": "datasetVersion",
     "datasetId": 1712408
    },
    {
     "sourceId": 7953498,
     "sourceType": "datasetVersion",
     "datasetId": 2499268
    }
   ],
   "dockerImageVersionId": 30558,
   "isInternetEnabled": false,
   "language": "python",
   "sourceType": "notebook",
   "isGpuEnabled": false
  }
 },
 "nbformat_minor": 4,
 "nbformat": 4,
 "cells": [
  {
   "cell_type": "markdown",
   "source": "# Phần 1: Import thư viện",
   "metadata": {}
  },
  {
   "cell_type": "markdown",
   "source": "## Thêm thư viện pandas, numpy, matplotlib, TfidVectorizer từ sklearn",
   "metadata": {}
  },
  {
   "cell_type": "code",
   "source": "# Load packages\nimport pandas as pd\nimport numpy as np\nfrom sklearn.feature_extraction.text import TfidfVectorizer \nimport matplotlib.pyplot as plt",
   "metadata": {
    "_uuid": "8f2839f25d086af736a60e9eeb907d3b93b6e0e5",
    "_cell_guid": "b1076dfc-b9ad-4769-8c92-a6c4dae69d19",
    "execution": {
     "iopub.status.busy": "2024-04-24T07:29:58.541429Z",
     "iopub.execute_input": "2024-04-24T07:29:58.541901Z",
     "iopub.status.idle": "2024-04-24T07:29:58.549686Z",
     "shell.execute_reply.started": "2024-04-24T07:29:58.541868Z",
     "shell.execute_reply": "2024-04-24T07:29:58.548312Z"
    },
    "trusted": true,
    "ExecuteTime": {
     "end_time": "2025-09-07T19:33:22.902550Z",
     "start_time": "2025-09-07T19:33:22.899309Z"
    }
   },
   "outputs": [],
   "execution_count": 5
  },
  {
   "cell_type": "markdown",
   "source": "",
   "metadata": {}
  },
  {
   "cell_type": "code",
   "source": [
    "df_cryptonews = pd.read_csv('cryptonews.csv')\n",
    "\n",
    "cond_subject = (\n",
    "    df_cryptonews['subject'].isin(['blockchain', 'bitcoin'])\n",
    ")\n",
    "cond_text = df_cryptonews['text'].str.contains('bitcoin', case=False, na=False)\n",
    "\n",
    "cond_title = df_cryptonews['title'].str.contains('bitcoin', case=False, na=False)\n",
    "\n",
    "df_filtered = df_cryptonews[cond_subject & (cond_text | cond_title)]\n",
    "\n",
    "df_filtered = df_filtered.drop_duplicates()\n",
    "\n"
   ],
   "metadata": {
    "execution": {
     "iopub.status.busy": "2024-04-24T07:29:58.878976Z",
     "iopub.execute_input": "2024-04-24T07:29:58.879862Z",
     "iopub.status.idle": "2024-04-24T07:29:58.899618Z",
     "shell.execute_reply.started": "2024-04-24T07:29:58.879827Z",
     "shell.execute_reply": "2024-04-24T07:29:58.897749Z"
    },
    "trusted": true,
    "ExecuteTime": {
     "end_time": "2025-09-07T19:46:05.927519Z",
     "start_time": "2025-09-07T19:46:02.824772Z"
    }
   },
   "outputs": [],
   "execution_count": 19
  },
  {
   "metadata": {
    "ExecuteTime": {
     "end_time": "2025-09-07T19:48:07.649984Z",
     "start_time": "2025-09-07T19:48:04.489174Z"
    }
   },
   "cell_type": "code",
   "source": [
    "import json\n",
    "import pandas as pd\n",
    "\n",
    "with open(\"001_data.sql\", \"w\", encoding=\"utf-8\") as f:\n",
    "    for _, row in df_filtered.iterrows():\n",
    "        date_str = pd.to_datetime(row['date']).strftime('%Y-%m-%d %H:%M:%S')\n",
    "\n",
    "        # Ensure sentiment is valid JSON\n",
    "        sentiment_val = row['sentiment']\n",
    "        if isinstance(sentiment_val, str):\n",
    "            try:\n",
    "                # Try to parse as JSON first\n",
    "                sentiment_obj = json.loads(sentiment_val)\n",
    "            except json.JSONDecodeError:\n",
    "                try:\n",
    "                    # Try to parse as Python literal (e.g., \"{'class': 'negative', ...}\")\n",
    "                    import ast\n",
    "                    sentiment_obj = ast.literal_eval(sentiment_val)\n",
    "                except Exception:\n",
    "                    # Fallback: wrap raw string\n",
    "                    sentiment_obj = {\"raw\": sentiment_val}\n",
    "        else:\n",
    "            sentiment_obj = sentiment_val\n",
    "\n",
    "        sentiment_json = json.dumps(sentiment_obj, ensure_ascii=False)\n",
    "\n",
    "        source_str = str(row['source']).replace(\"'\", \"''\")\n",
    "        subject_str = str(row['subject']).replace(\"'\", \"''\")\n",
    "        text_str = str(row['text']).replace(\"'\", \"''\")\n",
    "        title_str = str(row['title']).replace(\"'\", \"''\")\n",
    "        url_str = str(row['url']).replace(\"'\", \"''\")\n",
    "\n",
    "        f.write(\n",
    "            f\"INSERT INTO crypto_news (date, sentiment, source, subject, text, title, url) \"\n",
    "            f\"VALUES ('{date_str}', '{sentiment_json}'::jsonb, '{source_str}', '{subject_str}', \"\n",
    "            f\"'{text_str}', '{title_str}', '{url_str}') \"\n",
    "            f\"ON CONFLICT DO NOTHING;\\n\"\n",
    "        )"
   ],
   "outputs": [],
   "execution_count": 20
  },
  {
   "cell_type": "markdown",
   "source": "Hiển thị các tin tức Crypto lên",
   "metadata": {}
  },
  {
   "cell_type": "markdown",
   "source": "### Tạo vector, vector hóa tài liệu",
   "metadata": {}
  },
  {
   "cell_type": "code",
   "source": "# create vectorizer \nvectorizer = TfidfVectorizer(stop_words='english') \n  \n# vectorizer the text documents \nX_tfidf = vectorizer.fit_transform(df_cryptonews['title'])",
   "metadata": {
    "execution": {
     "iopub.status.busy": "2024-04-24T07:29:58.901206Z",
     "iopub.execute_input": "2024-04-24T07:29:58.901599Z",
     "iopub.status.idle": "2024-04-24T07:29:59.700343Z",
     "shell.execute_reply.started": "2024-04-24T07:29:58.901555Z",
     "shell.execute_reply": "2024-04-24T07:29:59.698902Z"
    },
    "trusted": true,
    "ExecuteTime": {
     "end_time": "2025-09-07T19:33:26.292542Z",
     "start_time": "2025-09-07T19:33:26.012789Z"
    }
   },
   "outputs": [],
   "execution_count": 7
  },
  {
   "cell_type": "markdown",
   "source": "\nĐoạn mã trên sử dụng TfidfVectorizer từ thư viện scikit-learn để chuyển đổi các tiêu đề tin tức từ dạng văn bản thành ma trận TF-IDF.\nvectorizer = TfidfVectorizer(stop_words='english'): Đây là cách tạo một đối tượng TfidfVectorizer. Tham số stop_words='english' chỉ định rằng các từ dừng trong tiếng Anh (như \"and\", \"the\", \"is\", v.v.) sẽ được loại bỏ khỏi văn bản trước khi chuyển đổi thành vector TF-IDF.\nX_tfidf = vectorizer.fit_transform(df_cryptonews['title']): Dòng này sử dụng phương thức fit_transform để chuyển đổi các tiêu đề tin tức từ DataFrame df_cryptonews thành ma trận TF-IDF. Đối tượng vectorizer đã được sử dụng trước đó để fit (tìm hiểu) từ vựng từ các tiêu đề tin tức và sau đó chuyển đổi chúng thành ma trận TF-IDF.\nKết quả X_tfidf là một ma trận mà mỗi hàng tương ứng với một tiêu đề tin tức, và mỗi cột tương ứng với một từ trong từ vựng đã được xây dựng từ các tiêu đề. Giá trị tại mỗi vị trí trong ma trận là giá trị TF-IDF của từ đó trong tiêu đề tương ứng.",
   "metadata": {}
  },
  {
   "cell_type": "markdown",
   "source": "## Hiển thị kích thước Samples và Features",
   "metadata": {}
  },
  {
   "cell_type": "code",
   "source": "print(f\"n_samples: {X_tfidf.shape[0]}, n_features: {X_tfidf.shape[1]}\")",
   "metadata": {
    "execution": {
     "iopub.status.busy": "2024-04-24T07:29:59.704105Z",
     "iopub.execute_input": "2024-04-24T07:29:59.704604Z",
     "iopub.status.idle": "2024-04-24T07:29:59.711746Z",
     "shell.execute_reply.started": "2024-04-24T07:29:59.704564Z",
     "shell.execute_reply": "2024-04-24T07:29:59.710028Z"
    },
    "trusted": true,
    "ExecuteTime": {
     "end_time": "2025-09-07T19:33:26.324808Z",
     "start_time": "2025-09-07T19:33:26.320740Z"
    }
   },
   "outputs": [
    {
     "name": "stdout",
     "output_type": "stream",
     "text": [
      "n_samples: 31037, n_features: 17573\n"
     ]
    }
   ],
   "execution_count": 8
  },
  {
   "cell_type": "markdown",
   "source": "# Phần 2: Xử lí dữ liệu",
   "metadata": {}
  },
  {
   "cell_type": "markdown",
   "source": "## PCA",
   "metadata": {}
  },
  {
   "cell_type": "code",
   "source": "from sklearn.decomposition import PCA\n\n# reduce the dimensionality of the data using PCA \npca = PCA(n_components=2)\nreduced_data = pca.fit_transform(X_tfidf.toarray())",
   "metadata": {
    "execution": {
     "iopub.status.busy": "2024-04-24T07:29:59.713536Z",
     "iopub.execute_input": "2024-04-24T07:29:59.714362Z",
     "iopub.status.idle": "2024-04-24T07:30:45.229402Z",
     "shell.execute_reply.started": "2024-04-24T07:29:59.714316Z",
     "shell.execute_reply": "2024-04-24T07:30:45.227781Z"
    },
    "trusted": true,
    "ExecuteTime": {
     "end_time": "2025-09-07T19:33:41.309290Z",
     "start_time": "2025-09-07T19:33:26.368703Z"
    }
   },
   "outputs": [],
   "execution_count": 9
  },
  {
   "cell_type": "markdown",
   "source": "Đầu tiên import PCA từ thư viện sklearn.decompostion;\nPCA(n_components=2): giới hạn chiều dữ liệu xuống còn 2;\nX_tfidf.toarray(): biến X-tfidf thành mảng. Sau đó dùng fit_transform để giảm chiều dữ liệu bằng PCA;\n=> reduced_data: mảng dữ liệu được giảm chiều bằng PCA",
   "metadata": {}
  },
  {
   "cell_type": "code",
   "source": "# plot the results of PCA\nplt.scatter(reduced_data[:,0],reduced_data[:,1])\nplt.legend() \nplt.show()",
   "metadata": {
    "execution": {
     "iopub.status.busy": "2024-04-24T07:30:45.231778Z",
     "iopub.execute_input": "2024-04-24T07:30:45.232272Z",
     "iopub.status.idle": "2024-04-24T07:30:45.769996Z",
     "shell.execute_reply.started": "2024-04-24T07:30:45.232227Z",
     "shell.execute_reply": "2024-04-24T07:30:45.76882Z"
    },
    "trusted": true,
    "ExecuteTime": {
     "end_time": "2025-09-07T19:33:41.813713Z",
     "start_time": "2025-09-07T19:33:41.351444Z"
    }
   },
   "outputs": [
    {
     "name": "stderr",
     "output_type": "stream",
     "text": [
      "C:\\Users\\PC\\AppData\\Local\\Temp\\ipykernel_16724\\4276048510.py:3: UserWarning: No artists with labels found to put in legend.  Note that artists whose label start with an underscore are ignored when legend() is called with no argument.\n",
      "  plt.legend()\n"
     ]
    },
    {
     "data": {
      "text/plain": [
       "<Figure size 640x480 with 1 Axes>"
      ],
      "image/png": "[encoded data removed]"
     },
     "metadata": {},
     "output_type": "display_data"
    }
   ],
   "execution_count": 10
  },
  {
   "cell_type": "markdown",
   "source": "Dùng scatter để vẽ biểu đồ truyền 2 tham số reduced_data[:,0] và reduced_data[:,1]: 2 cột của mảng reduce_data;\ndùng legend để thêm chú thích\ndùng show để hiện thị biểu đồ đã vẽ",
   "metadata": {}
  },
  {
   "cell_type": "markdown",
   "source": "# Phần 3: Phân cụm dữ liệu",
   "metadata": {}
  },
  {
   "cell_type": "markdown",
   "source": "### K-means Clustering",
   "metadata": {}
  },
  {
   "cell_type": "code",
   "source": "from sklearn.cluster import KMeans \n\n# cluster the documents using k-means \nnum_clusters = 2\nkmeans = KMeans(n_clusters=num_clusters, n_init=5, \n                max_iter=500, random_state=23) \nkmeans.fit(X_tfidf) \n\nresults = pd.DataFrame() \nresults['document'] = df_cryptonews['title'] \nresults['cluster'] = kmeans.labels_",
   "metadata": {
    "execution": {
     "iopub.status.busy": "2024-04-24T07:30:45.771593Z",
     "iopub.execute_input": "2024-04-24T07:30:45.772136Z",
     "iopub.status.idle": "2024-04-24T07:30:46.177982Z",
     "shell.execute_reply.started": "2024-04-24T07:30:45.772104Z",
     "shell.execute_reply": "2024-04-24T07:30:46.176558Z"
    },
    "trusted": true,
    "ExecuteTime": {
     "end_time": "2025-09-07T19:33:43.111812Z",
     "start_time": "2025-09-07T19:33:41.830488Z"
    }
   },
   "outputs": [],
   "execution_count": 11
  },
  {
   "cell_type": "markdown",
   "source": "Thêm KMeans từ thư viện sklearn.cluster; gán số lượng cụm muốn tạo clusters = 2; \nCho KMeans các tham số lần lượt là số lương cụm muốn tạo = 2; số lần khởi tạo khác nhau = 5; số lần lặp lại tối đa cho mỗi lần khởi tạo là 500; seed cho việc khởi tạo ngẫu nhiên để có được kết quả tái tạo\nkmeans.fit(X_tfidf): huấn luyện mô hình Kmeans trên dữ liệu đã được vector hóa bằng TF-IDF\npd.DataFrame(): lưu kết quả phân cụm trong DataFrame\nresults['document'] = df_cryptonews['title']: gán cột title của df_cryptonews vào cột document của DataFrame results để lưu trữ Title của các văn bản\nresults['cluster'] = kmeans.labels_: dán nhãn của mô hình kmeans vào cột cluster của DataFrame results",
   "metadata": {}
  },
  {
   "cell_type": "code",
   "source": "df_cryptonews['kmeans_labels'] = kmeans.labels_\ndf_cryptonews.to_csv(\"cryptonews_kmeans_labels_1.csv\")",
   "metadata": {
    "execution": {
     "iopub.status.busy": "2024-04-24T07:30:46.18305Z",
     "iopub.execute_input": "2024-04-24T07:30:46.184267Z",
     "iopub.status.idle": "2024-04-24T07:30:47.022196Z",
     "shell.execute_reply.started": "2024-04-24T07:30:46.184221Z",
     "shell.execute_reply": "2024-04-24T07:30:47.020766Z"
    },
    "trusted": true,
    "ExecuteTime": {
     "end_time": "2025-09-07T19:33:43.397185Z",
     "start_time": "2025-09-07T19:33:43.116250Z"
    }
   },
   "outputs": [],
   "execution_count": 12
  },
  {
   "cell_type": "markdown",
   "source": "df_cryptonews['kmeans_labels'] = kmeans.labels_ : tạo cột mới có tên kmeans_labels trên FrameData của df_cryptonews sau đó gán nhãn cụm clusters labels(KMeans đã dự đoán) vào cột vừa mới tạo\ndf_cryptonews.to_csv(\"cryptonews_kmeans_labels_1.csv\"): lưu DataFrame của df_cryptonews vào tệp CSV có tên là cryptonews_kmeans_labels_1.csv",
   "metadata": {}
  },
  {
   "cell_type": "code",
   "source": "wcss = [] \nfor i in range(1, 21): \n    kmeans = KMeans(n_clusters = i, init = 'k-means++', random_state = 23, n_init = 5)\n    kmeans.fit(X_tfidf) \n    wcss.append(kmeans.inertia_)",
   "metadata": {
    "execution": {
     "iopub.status.busy": "2024-04-24T07:30:47.02415Z",
     "iopub.execute_input": "2024-04-24T07:30:47.024615Z",
     "iopub.status.idle": "2024-04-24T07:31:19.936487Z",
     "shell.execute_reply.started": "2024-04-24T07:30:47.024579Z",
     "shell.execute_reply": "2024-04-24T07:31:19.934731Z"
    },
    "trusted": true,
    "ExecuteTime": {
     "end_time": "2025-09-07T19:33:58.407778Z",
     "start_time": "2025-09-07T19:33:43.438312Z"
    }
   },
   "outputs": [],
   "execution_count": 13
  },
  {
   "cell_type": "markdown",
   "source": "Tạo một danh sách rỗng wcss; Tạo vòng lặp for chạy từ 1 đến 20 gán số lượng cụm cho chạy từ 1 đến 20; init = kmeans++ chỉ định dùng phương pháp Kmeans để chọn điểm khởi đầu giúp nhanh hơn. \nkmeans.fit(X_tfidf): huấn luyện mô hình kmeans trên dữ liệu đã vecto hóa\nwcss.append(kmeans.inertia_): trả về giá trị của WCSS là tổng của bình phương khoảng cách từ các điểm dữ liệu tới trung tâm của cụm gần nhất của chúng. Giá trị này được thêm vào danh sách wcss để lưu trữ",
   "metadata": {}
  },
  {
   "cell_type": "code",
   "source": "df_kmeans = pd.DataFrame()\ndf_kmeans['clusters'] = [i for i in range(1,21)]\ndf_kmeans['inertia'] = wcss\ndf_kmeans",
   "metadata": {
    "execution": {
     "iopub.status.busy": "2024-04-24T07:31:19.94679Z",
     "iopub.execute_input": "2024-04-24T07:31:19.948617Z",
     "iopub.status.idle": "2024-04-24T07:31:19.968076Z",
     "shell.execute_reply.started": "2024-04-24T07:31:19.948555Z",
     "shell.execute_reply": "2024-04-24T07:31:19.966242Z"
    },
    "trusted": true,
    "ExecuteTime": {
     "end_time": "2025-09-07T19:33:58.442963Z",
     "start_time": "2025-09-07T19:33:58.430407Z"
    }
   },
   "outputs": [
    {
     "data": {
      "text/plain": [
       "    clusters       inertia\n",
       "0          1  30821.210855\n",
       "1          2  30634.469311\n",
       "2          3  30533.468157\n",
       "3          4  30475.272145\n",
       "4          5  30380.349581\n",
       "5          6  30333.449720\n",
       "6          7  30251.133669\n",
       "7          8  30115.023170\n",
       "8          9  30084.360075\n",
       "9         10  30071.143691\n",
       "10        11  29998.217097\n",
       "11        12  29998.998711\n",
       "12        13  29917.898896\n",
       "13        14  29845.027438\n",
       "14        15  29833.182686\n",
       "15        16  29776.493519\n",
       "16        17  29760.736685\n",
       "17        18  29742.670009\n",
       "18        19  29698.646884\n",
       "19        20  29658.010761"
      ],
      "text/html": [
       "<div>\n",
       "<style scoped>\n",
       "    .dataframe tbody tr th:only-of-type {\n",
       "        vertical-align: middle;\n",
       "    }\n",
       "\n",
       "    .dataframe tbody tr th {\n",
       "        vertical-align: top;\n",
       "    }\n",
       "\n",
       "    .dataframe thead th {\n",
       "        text-align: right;\n",
       "    }\n",
       "</style>\n",
       "<table border=\"1\" class=\"dataframe\">\n",
       "  <thead>\n",
       "    <tr style=\"text-align: right;\">\n",
       "      <th></th>\n",
       "      <th>clusters</th>\n",
       "      <th>inertia</th>\n",
       "    </tr>\n",
       "  </thead>\n",
       "  <tbody>\n",
       "    <tr>\n",
       "      <th>0</th>\n",
       "      <td>1</td>\n",
       "      <td>30821.210855</td>\n",
       "    </tr>\n",
       "    <tr>\n",
       "      <th>1</th>\n",
       "      <td>2</td>\n",
       "      <td>30634.469311</td>\n",
       "    </tr>\n",
       "    <tr>\n",
       "      <th>2</th>\n",
       "      <td>3</td>\n",
       "      <td>30533.468157</td>\n",
       "    </tr>\n",
       "    <tr>\n",
       "      <th>3</th>\n",
       "      <td>4</td>\n",
       "      <td>30475.272145</td>\n",
       "    </tr>\n",
       "    <tr>\n",
       "      <th>4</th>\n",
       "      <td>5</td>\n",
       "      <td>30380.349581</td>\n",
       "    </tr>\n",
       "    <tr>\n",
       "      <th>5</th>\n",
       "      <td>6</td>\n",
       "      <td>30333.449720</td>\n",
       "    </tr>\n",
       "    <tr>\n",
       "      <th>6</th>\n",
       "      <td>7</td>\n",
       "      <td>30251.133669</td>\n",
       "    </tr>\n",
       "    <tr>\n",
       "      <th>7</th>\n",
       "      <td>8</td>\n",
       "      <td>30115.023170</td>\n",
       "    </tr>\n",
       "    <tr>\n",
       "      <th>8</th>\n",
       "      <td>9</td>\n",
       "      <td>30084.360075</td>\n",
       "    </tr>\n",
       "    <tr>\n",
       "      <th>9</th>\n",
       "      <td>10</td>\n",
       "      <td>30071.143691</td>\n",
       "    </tr>\n",
       "    <tr>\n",
       "      <th>10</th>\n",
       "      <td>11</td>\n",
       "      <td>29998.217097</td>\n",
       "    </tr>\n",
       "    <tr>\n",
       "      <th>11</th>\n",
       "      <td>12</td>\n",
       "      <td>29998.998711</td>\n",
       "    </tr>\n",
       "    <tr>\n",
       "      <th>12</th>\n",
       "      <td>13</td>\n",
       "      <td>29917.898896</td>\n",
       "    </tr>\n",
       "    <tr>\n",
       "      <th>13</th>\n",
       "      <td>14</td>\n",
       "      <td>29845.027438</td>\n",
       "    </tr>\n",
       "    <tr>\n",
       "      <th>14</th>\n",
       "      <td>15</td>\n",
       "      <td>29833.182686</td>\n",
       "    </tr>\n",
       "    <tr>\n",
       "      <th>15</th>\n",
       "      <td>16</td>\n",
       "      <td>29776.493519</td>\n",
       "    </tr>\n",
       "    <tr>\n",
       "      <th>16</th>\n",
       "      <td>17</td>\n",
       "      <td>29760.736685</td>\n",
       "    </tr>\n",
       "    <tr>\n",
       "      <th>17</th>\n",
       "      <td>18</td>\n",
       "      <td>29742.670009</td>\n",
       "    </tr>\n",
       "    <tr>\n",
       "      <th>18</th>\n",
       "      <td>19</td>\n",
       "      <td>29698.646884</td>\n",
       "    </tr>\n",
       "    <tr>\n",
       "      <th>19</th>\n",
       "      <td>20</td>\n",
       "      <td>29658.010761</td>\n",
       "    </tr>\n",
       "  </tbody>\n",
       "</table>\n",
       "</div>"
      ]
     },
     "execution_count": 14,
     "metadata": {},
     "output_type": "execute_result"
    }
   ],
   "execution_count": 14
  },
  {
   "cell_type": "markdown",
   "source": "Đầu tiên khởi tạo DataFrame\ndf_kmeans['clusters'] = [i for i in range(1,21)]: Dòng này tạo một cột có tên là 'clusters' trong DataFrame df_kmeans và gán giá trị cho cột này từ 1 đến 20. Điều này tạo ra một cột chứa các số lượng cụm tương ứng với số lượng lần lặp trong vòng lặp trước đó\ndf_kmeans['inertia'] = wcss: Dòng này tạo một cột mới có tên là 'inertia' trong DataFrame df_kmeans và gán giá trị từ danh sách wcss. wcss chứa giá trị của WCSS tương ứng với mỗi số lượng cụm từ 1 đến 20.",
   "metadata": {}
  },
  {
   "cell_type": "code",
   "source": "plt.figure()\nplt.plot(df_kmeans['clusters'], df_kmeans['inertia'])\nplt.show()",
   "metadata": {
    "execution": {
     "iopub.status.busy": "2024-04-24T07:31:19.970229Z",
     "iopub.execute_input": "2024-04-24T07:31:19.970646Z",
     "iopub.status.idle": "2024-04-24T07:31:20.270982Z",
     "shell.execute_reply.started": "2024-04-24T07:31:19.970614Z",
     "shell.execute_reply": "2024-04-24T07:31:20.269612Z"
    },
    "trusted": true,
    "ExecuteTime": {
     "end_time": "2025-09-07T19:33:58.579301Z",
     "start_time": "2025-09-07T19:33:58.505766Z"
    }
   },
   "outputs": [
    {
     "data": {
      "text/plain": [
       "<Figure size 640x480 with 1 Axes>"
      ],
      "image/png": "[encoded data removed]"
     },
     "metadata": {},
     "output_type": "display_data"
    }
   ],
   "execution_count": 15
  },
  {
   "cell_type": "markdown",
   "source": "## Dùng k-means cho dữ liệu",
   "metadata": {}
  },
  {
   "cell_type": "markdown",
   "source": "figure: Dòng này tạo một hình vẽ mới\nplt.plot(df_kmeans['clusters'], df_kmeans['inertia']): Dòng này vẽ biểu đồ đường bằng cách sử dụng giá trị của số lượng cụm (cột 'clusters' trong DataFrame df_kmeans) làm trục x và giá trị của WCSS (cột 'inertia' trong DataFrame df_kmeans) làm trục y.",
   "metadata": {}
  },
  {
   "cell_type": "code",
   "source": "# Let's try to set the clusters to 5\n# cluster the documents using k-means \nnum_clusters = 5\nkmeans = KMeans(n_clusters=num_clusters, n_init=5, \n                max_iter=500, random_state=23) \nkmeans.fit(X_tfidf) \n\nresults = pd.DataFrame() \nresults['document'] = df_cryptonews['title'] \nresults['cluster'] = kmeans.labels_ \n\ndf_cryptonews['kmeans_labels'] = kmeans.labels_\ndf_cryptonews.to_csv(\"cryptonews_kmeans_labels_2.csv\")",
   "metadata": {
    "execution": {
     "iopub.status.busy": "2024-04-24T07:31:20.272579Z",
     "iopub.execute_input": "2024-04-24T07:31:20.272932Z",
     "iopub.status.idle": "2024-04-24T07:31:21.829774Z",
     "shell.execute_reply.started": "2024-04-24T07:31:20.2729Z",
     "shell.execute_reply": "2024-04-24T07:31:21.828124Z"
    },
    "trusted": true,
    "ExecuteTime": {
     "end_time": "2025-09-07T19:33:59.205430Z",
     "start_time": "2025-09-07T19:33:58.618614Z"
    }
   },
   "outputs": [],
   "execution_count": 16
  },
  {
   "cell_type": "markdown",
   "source": "Khởi tạo số lượng cụm = 5; \nkmeans = KMeans(n_clusters=num_clusters, n_init=5, max_iter=500, random_state=23): Bước khởi tạo của mô hình K-Means với số lượng cụm là 5. Tham số n_init chỉ định số lần khởi tạo khác nhau mà thuật toán sẽ thử, max_iter là số lần lặp tối đa cho mỗi lần khởi tạo, và random_state là seed cho việc khởi tạo ngẫu nhiên để kết quả có thể được tái tạo\nkmeans.fit(X_tfidf): Dòng này huấn luyện mô hình K-Means trên dữ liệu đã được vector hóa bằng TF-IDF (X_tfidf).\nresults = pd.DataFrame(): Dòng này khởi tạo một DataFrame mới có tên là results để lưu trữ kết quả phân cụm.\nresults['document'] = df_cryptonews['title']: Dòng này gán cột 'title' từ DataFrame df_cryptonews vào cột 'document' của DataFrame results, để lưu trữ tiêu đề của các văn bản.\nresults['cluster'] = kmeans.labels_: Dòng này gán nhãn của các cụm mà mô hình K-Means đã phân loại vào cột 'cluster' của DataFrame results.\ndf_cryptonews['kmeans_labels'] = kmeans.labels_: Dòng này tạo một cột mới trong DataFrame df_cryptonews có tên là 'kmeans_labels' và gán nhãn của các cụm mà mô hình K-Means đã dự đoán cho mỗi văn bản vào cột này.\ndf_cryptonews.to_csv(\"cryptonews_kmeans_labels_2.csv\"): Dòng này lưu DataFrame df_cryptonews vào một tệp CSV có tên là \"cryptonews_kmeans_labels_2.csv\" để lưu trữ kết quả phân cụm cho việc sử dụng hoặc phân tích sau này.",
   "metadata": {}
  },
  {
   "cell_type": "markdown",
   "source": "# Phần 4: Kết luận",
   "metadata": {}
  },
  {
   "cell_type": "markdown",
   "source": "## Tải dữ liệu về giá tiền điện tử",
   "metadata": {}
  },
  {
   "cell_type": "code",
   "source": "# Let's focus on bitcoin for now\ndf_bitcoin = pd.read_csv(\"/kaggle/input/cryptocurrency-historical-prices-coingecko/bitcoin.csv\")\ndf_bitcoin['date'] = pd.to_datetime(df_bitcoin['date'])\ndf_bitcoin['date'] = df_bitcoin['date'].dt.date\ndf_bitcoin",
   "metadata": {
    "execution": {
     "iopub.status.busy": "2024-04-24T07:31:21.831754Z",
     "iopub.execute_input": "2024-04-24T07:31:21.832126Z",
     "iopub.status.idle": "2024-04-24T07:31:21.875008Z",
     "shell.execute_reply.started": "2024-04-24T07:31:21.832097Z",
     "shell.execute_reply": "2024-04-24T07:31:21.87324Z"
    },
    "trusted": true,
    "ExecuteTime": {
     "end_time": "2025-09-07T19:33:59.343172Z",
     "start_time": "2025-09-07T19:33:59.239653Z"
    }
   },
   "outputs": [
    {
     "ename": "FileNotFoundError",
     "evalue": "[Errno 2] No such file or directory: '/kaggle/input/cryptocurrency-historical-prices-coingecko/bitcoin.csv'",
     "output_type": "error",
     "traceback": [
      "\u001B[1;31m---------------------------------------------------------------------------\u001B[0m",
      "\u001B[1;31mFileNotFoundError\u001B[0m                         Traceback (most recent call last)",
      "Cell \u001B[1;32mIn[17], line 2\u001B[0m\n\u001B[0;32m      1\u001B[0m \u001B[38;5;66;03m# Let's focus on bitcoin for now\u001B[39;00m\n\u001B[1;32m----> 2\u001B[0m df_bitcoin \u001B[38;5;241m=\u001B[39m \u001B[43mpd\u001B[49m\u001B[38;5;241;43m.\u001B[39;49m\u001B[43mread_csv\u001B[49m\u001B[43m(\u001B[49m\u001B[38;5;124;43m\"\u001B[39;49m\u001B[38;5;124;43m/kaggle/input/cryptocurrency-historical-prices-coingecko/bitcoin.csv\u001B[39;49m\u001B[38;5;124;43m\"\u001B[39;49m\u001B[43m)\u001B[49m\n\u001B[0;32m      3\u001B[0m df_bitcoin[\u001B[38;5;124m'\u001B[39m\u001B[38;5;124mdate\u001B[39m\u001B[38;5;124m'\u001B[39m] \u001B[38;5;241m=\u001B[39m pd\u001B[38;5;241m.\u001B[39mto_datetime(df_bitcoin[\u001B[38;5;124m'\u001B[39m\u001B[38;5;124mdate\u001B[39m\u001B[38;5;124m'\u001B[39m])\n\u001B[0;32m      4\u001B[0m df_bitcoin[\u001B[38;5;124m'\u001B[39m\u001B[38;5;124mdate\u001B[39m\u001B[38;5;124m'\u001B[39m] \u001B[38;5;241m=\u001B[39m df_bitcoin[\u001B[38;5;124m'\u001B[39m\u001B[38;5;124mdate\u001B[39m\u001B[38;5;124m'\u001B[39m]\u001B[38;5;241m.\u001B[39mdt\u001B[38;5;241m.\u001B[39mdate\n",
      "File \u001B[1;32mC:\\Python312\\Lib\\site-packages\\pandas\\io\\parsers\\readers.py:1026\u001B[0m, in \u001B[0;36mread_csv\u001B[1;34m(filepath_or_buffer, sep, delimiter, header, names, index_col, usecols, dtype, engine, converters, true_values, false_values, skipinitialspace, skiprows, skipfooter, nrows, na_values, keep_default_na, na_filter, verbose, skip_blank_lines, parse_dates, infer_datetime_format, keep_date_col, date_parser, date_format, dayfirst, cache_dates, iterator, chunksize, compression, thousands, decimal, lineterminator, quotechar, quoting, doublequote, escapechar, comment, encoding, encoding_errors, dialect, on_bad_lines, delim_whitespace, low_memory, memory_map, float_precision, storage_options, dtype_backend)\u001B[0m\n\u001B[0;32m   1013\u001B[0m kwds_defaults \u001B[38;5;241m=\u001B[39m _refine_defaults_read(\n\u001B[0;32m   1014\u001B[0m     dialect,\n\u001B[0;32m   1015\u001B[0m     delimiter,\n\u001B[1;32m   (...)\u001B[0m\n\u001B[0;32m   1022\u001B[0m     dtype_backend\u001B[38;5;241m=\u001B[39mdtype_backend,\n\u001B[0;32m   1023\u001B[0m )\n\u001B[0;32m   1024\u001B[0m kwds\u001B[38;5;241m.\u001B[39mupdate(kwds_defaults)\n\u001B[1;32m-> 1026\u001B[0m \u001B[38;5;28;01mreturn\u001B[39;00m \u001B[43m_read\u001B[49m\u001B[43m(\u001B[49m\u001B[43mfilepath_or_buffer\u001B[49m\u001B[43m,\u001B[49m\u001B[43m \u001B[49m\u001B[43mkwds\u001B[49m\u001B[43m)\u001B[49m\n",
      "File \u001B[1;32mC:\\Python312\\Lib\\site-packages\\pandas\\io\\parsers\\readers.py:620\u001B[0m, in \u001B[0;36m_read\u001B[1;34m(filepath_or_buffer, kwds)\u001B[0m\n\u001B[0;32m    617\u001B[0m _validate_names(kwds\u001B[38;5;241m.\u001B[39mget(\u001B[38;5;124m\"\u001B[39m\u001B[38;5;124mnames\u001B[39m\u001B[38;5;124m\"\u001B[39m, \u001B[38;5;28;01mNone\u001B[39;00m))\n\u001B[0;32m    619\u001B[0m \u001B[38;5;66;03m# Create the parser.\u001B[39;00m\n\u001B[1;32m--> 620\u001B[0m parser \u001B[38;5;241m=\u001B[39m \u001B[43mTextFileReader\u001B[49m\u001B[43m(\u001B[49m\u001B[43mfilepath_or_buffer\u001B[49m\u001B[43m,\u001B[49m\u001B[43m \u001B[49m\u001B[38;5;241;43m*\u001B[39;49m\u001B[38;5;241;43m*\u001B[39;49m\u001B[43mkwds\u001B[49m\u001B[43m)\u001B[49m\n\u001B[0;32m    622\u001B[0m \u001B[38;5;28;01mif\u001B[39;00m chunksize \u001B[38;5;129;01mor\u001B[39;00m iterator:\n\u001B[0;32m    623\u001B[0m     \u001B[38;5;28;01mreturn\u001B[39;00m parser\n",
      "File \u001B[1;32mC:\\Python312\\Lib\\site-packages\\pandas\\io\\parsers\\readers.py:1620\u001B[0m, in \u001B[0;36mTextFileReader.__init__\u001B[1;34m(self, f, engine, **kwds)\u001B[0m\n\u001B[0;32m   1617\u001B[0m     \u001B[38;5;28mself\u001B[39m\u001B[38;5;241m.\u001B[39moptions[\u001B[38;5;124m\"\u001B[39m\u001B[38;5;124mhas_index_names\u001B[39m\u001B[38;5;124m\"\u001B[39m] \u001B[38;5;241m=\u001B[39m kwds[\u001B[38;5;124m\"\u001B[39m\u001B[38;5;124mhas_index_names\u001B[39m\u001B[38;5;124m\"\u001B[39m]\n\u001B[0;32m   1619\u001B[0m \u001B[38;5;28mself\u001B[39m\u001B[38;5;241m.\u001B[39mhandles: IOHandles \u001B[38;5;241m|\u001B[39m \u001B[38;5;28;01mNone\u001B[39;00m \u001B[38;5;241m=\u001B[39m \u001B[38;5;28;01mNone\u001B[39;00m\n\u001B[1;32m-> 1620\u001B[0m \u001B[38;5;28mself\u001B[39m\u001B[38;5;241m.\u001B[39m_engine \u001B[38;5;241m=\u001B[39m \u001B[38;5;28;43mself\u001B[39;49m\u001B[38;5;241;43m.\u001B[39;49m\u001B[43m_make_engine\u001B[49m\u001B[43m(\u001B[49m\u001B[43mf\u001B[49m\u001B[43m,\u001B[49m\u001B[43m \u001B[49m\u001B[38;5;28;43mself\u001B[39;49m\u001B[38;5;241;43m.\u001B[39;49m\u001B[43mengine\u001B[49m\u001B[43m)\u001B[49m\n",
      "File \u001B[1;32mC:\\Python312\\Lib\\site-packages\\pandas\\io\\parsers\\readers.py:1880\u001B[0m, in \u001B[0;36mTextFileReader._make_engine\u001B[1;34m(self, f, engine)\u001B[0m\n\u001B[0;32m   1878\u001B[0m     \u001B[38;5;28;01mif\u001B[39;00m \u001B[38;5;124m\"\u001B[39m\u001B[38;5;124mb\u001B[39m\u001B[38;5;124m\"\u001B[39m \u001B[38;5;129;01mnot\u001B[39;00m \u001B[38;5;129;01min\u001B[39;00m mode:\n\u001B[0;32m   1879\u001B[0m         mode \u001B[38;5;241m+\u001B[39m\u001B[38;5;241m=\u001B[39m \u001B[38;5;124m\"\u001B[39m\u001B[38;5;124mb\u001B[39m\u001B[38;5;124m\"\u001B[39m\n\u001B[1;32m-> 1880\u001B[0m \u001B[38;5;28mself\u001B[39m\u001B[38;5;241m.\u001B[39mhandles \u001B[38;5;241m=\u001B[39m \u001B[43mget_handle\u001B[49m\u001B[43m(\u001B[49m\n\u001B[0;32m   1881\u001B[0m \u001B[43m    \u001B[49m\u001B[43mf\u001B[49m\u001B[43m,\u001B[49m\n\u001B[0;32m   1882\u001B[0m \u001B[43m    \u001B[49m\u001B[43mmode\u001B[49m\u001B[43m,\u001B[49m\n\u001B[0;32m   1883\u001B[0m \u001B[43m    \u001B[49m\u001B[43mencoding\u001B[49m\u001B[38;5;241;43m=\u001B[39;49m\u001B[38;5;28;43mself\u001B[39;49m\u001B[38;5;241;43m.\u001B[39;49m\u001B[43moptions\u001B[49m\u001B[38;5;241;43m.\u001B[39;49m\u001B[43mget\u001B[49m\u001B[43m(\u001B[49m\u001B[38;5;124;43m\"\u001B[39;49m\u001B[38;5;124;43mencoding\u001B[39;49m\u001B[38;5;124;43m\"\u001B[39;49m\u001B[43m,\u001B[49m\u001B[43m \u001B[49m\u001B[38;5;28;43;01mNone\u001B[39;49;00m\u001B[43m)\u001B[49m\u001B[43m,\u001B[49m\n\u001B[0;32m   1884\u001B[0m \u001B[43m    \u001B[49m\u001B[43mcompression\u001B[49m\u001B[38;5;241;43m=\u001B[39;49m\u001B[38;5;28;43mself\u001B[39;49m\u001B[38;5;241;43m.\u001B[39;49m\u001B[43moptions\u001B[49m\u001B[38;5;241;43m.\u001B[39;49m\u001B[43mget\u001B[49m\u001B[43m(\u001B[49m\u001B[38;5;124;43m\"\u001B[39;49m\u001B[38;5;124;43mcompression\u001B[39;49m\u001B[38;5;124;43m\"\u001B[39;49m\u001B[43m,\u001B[49m\u001B[43m \u001B[49m\u001B[38;5;28;43;01mNone\u001B[39;49;00m\u001B[43m)\u001B[49m\u001B[43m,\u001B[49m\n\u001B[0;32m   1885\u001B[0m \u001B[43m    \u001B[49m\u001B[43mmemory_map\u001B[49m\u001B[38;5;241;43m=\u001B[39;49m\u001B[38;5;28;43mself\u001B[39;49m\u001B[38;5;241;43m.\u001B[39;49m\u001B[43moptions\u001B[49m\u001B[38;5;241;43m.\u001B[39;49m\u001B[43mget\u001B[49m\u001B[43m(\u001B[49m\u001B[38;5;124;43m\"\u001B[39;49m\u001B[38;5;124;43mmemory_map\u001B[39;49m\u001B[38;5;124;43m\"\u001B[39;49m\u001B[43m,\u001B[49m\u001B[43m \u001B[49m\u001B[38;5;28;43;01mFalse\u001B[39;49;00m\u001B[43m)\u001B[49m\u001B[43m,\u001B[49m\n\u001B[0;32m   1886\u001B[0m \u001B[43m    \u001B[49m\u001B[43mis_text\u001B[49m\u001B[38;5;241;43m=\u001B[39;49m\u001B[43mis_text\u001B[49m\u001B[43m,\u001B[49m\n\u001B[0;32m   1887\u001B[0m \u001B[43m    \u001B[49m\u001B[43merrors\u001B[49m\u001B[38;5;241;43m=\u001B[39;49m\u001B[38;5;28;43mself\u001B[39;49m\u001B[38;5;241;43m.\u001B[39;49m\u001B[43moptions\u001B[49m\u001B[38;5;241;43m.\u001B[39;49m\u001B[43mget\u001B[49m\u001B[43m(\u001B[49m\u001B[38;5;124;43m\"\u001B[39;49m\u001B[38;5;124;43mencoding_errors\u001B[39;49m\u001B[38;5;124;43m\"\u001B[39;49m\u001B[43m,\u001B[49m\u001B[43m \u001B[49m\u001B[38;5;124;43m\"\u001B[39;49m\u001B[38;5;124;43mstrict\u001B[39;49m\u001B[38;5;124;43m\"\u001B[39;49m\u001B[43m)\u001B[49m\u001B[43m,\u001B[49m\n\u001B[0;32m   1888\u001B[0m \u001B[43m    \u001B[49m\u001B[43mstorage_options\u001B[49m\u001B[38;5;241;43m=\u001B[39;49m\u001B[38;5;28;43mself\u001B[39;49m\u001B[38;5;241;43m.\u001B[39;49m\u001B[43moptions\u001B[49m\u001B[38;5;241;43m.\u001B[39;49m\u001B[43mget\u001B[49m\u001B[43m(\u001B[49m\u001B[38;5;124;43m\"\u001B[39;49m\u001B[38;5;124;43mstorage_options\u001B[39;49m\u001B[38;5;124;43m\"\u001B[39;49m\u001B[43m,\u001B[49m\u001B[43m \u001B[49m\u001B[38;5;28;43;01mNone\u001B[39;49;00m\u001B[43m)\u001B[49m\u001B[43m,\u001B[49m\n\u001B[0;32m   1889\u001B[0m \u001B[43m\u001B[49m\u001B[43m)\u001B[49m\n\u001B[0;32m   1890\u001B[0m \u001B[38;5;28;01massert\u001B[39;00m \u001B[38;5;28mself\u001B[39m\u001B[38;5;241m.\u001B[39mhandles \u001B[38;5;129;01mis\u001B[39;00m \u001B[38;5;129;01mnot\u001B[39;00m \u001B[38;5;28;01mNone\u001B[39;00m\n\u001B[0;32m   1891\u001B[0m f \u001B[38;5;241m=\u001B[39m \u001B[38;5;28mself\u001B[39m\u001B[38;5;241m.\u001B[39mhandles\u001B[38;5;241m.\u001B[39mhandle\n",
      "File \u001B[1;32mC:\\Python312\\Lib\\site-packages\\pandas\\io\\common.py:873\u001B[0m, in \u001B[0;36mget_handle\u001B[1;34m(path_or_buf, mode, encoding, compression, memory_map, is_text, errors, storage_options)\u001B[0m\n\u001B[0;32m    868\u001B[0m \u001B[38;5;28;01melif\u001B[39;00m \u001B[38;5;28misinstance\u001B[39m(handle, \u001B[38;5;28mstr\u001B[39m):\n\u001B[0;32m    869\u001B[0m     \u001B[38;5;66;03m# Check whether the filename is to be opened in binary mode.\u001B[39;00m\n\u001B[0;32m    870\u001B[0m     \u001B[38;5;66;03m# Binary mode does not support 'encoding' and 'newline'.\u001B[39;00m\n\u001B[0;32m    871\u001B[0m     \u001B[38;5;28;01mif\u001B[39;00m ioargs\u001B[38;5;241m.\u001B[39mencoding \u001B[38;5;129;01mand\u001B[39;00m \u001B[38;5;124m\"\u001B[39m\u001B[38;5;124mb\u001B[39m\u001B[38;5;124m\"\u001B[39m \u001B[38;5;129;01mnot\u001B[39;00m \u001B[38;5;129;01min\u001B[39;00m ioargs\u001B[38;5;241m.\u001B[39mmode:\n\u001B[0;32m    872\u001B[0m         \u001B[38;5;66;03m# Encoding\u001B[39;00m\n\u001B[1;32m--> 873\u001B[0m         handle \u001B[38;5;241m=\u001B[39m \u001B[38;5;28;43mopen\u001B[39;49m\u001B[43m(\u001B[49m\n\u001B[0;32m    874\u001B[0m \u001B[43m            \u001B[49m\u001B[43mhandle\u001B[49m\u001B[43m,\u001B[49m\n\u001B[0;32m    875\u001B[0m \u001B[43m            \u001B[49m\u001B[43mioargs\u001B[49m\u001B[38;5;241;43m.\u001B[39;49m\u001B[43mmode\u001B[49m\u001B[43m,\u001B[49m\n\u001B[0;32m    876\u001B[0m \u001B[43m            \u001B[49m\u001B[43mencoding\u001B[49m\u001B[38;5;241;43m=\u001B[39;49m\u001B[43mioargs\u001B[49m\u001B[38;5;241;43m.\u001B[39;49m\u001B[43mencoding\u001B[49m\u001B[43m,\u001B[49m\n\u001B[0;32m    877\u001B[0m \u001B[43m            \u001B[49m\u001B[43merrors\u001B[49m\u001B[38;5;241;43m=\u001B[39;49m\u001B[43merrors\u001B[49m\u001B[43m,\u001B[49m\n\u001B[0;32m    878\u001B[0m \u001B[43m            \u001B[49m\u001B[43mnewline\u001B[49m\u001B[38;5;241;43m=\u001B[39;49m\u001B[38;5;124;43m\"\u001B[39;49m\u001B[38;5;124;43m\"\u001B[39;49m\u001B[43m,\u001B[49m\n\u001B[0;32m    879\u001B[0m \u001B[43m        \u001B[49m\u001B[43m)\u001B[49m\n\u001B[0;32m    880\u001B[0m     \u001B[38;5;28;01melse\u001B[39;00m:\n\u001B[0;32m    881\u001B[0m         \u001B[38;5;66;03m# Binary mode\u001B[39;00m\n\u001B[0;32m    882\u001B[0m         handle \u001B[38;5;241m=\u001B[39m \u001B[38;5;28mopen\u001B[39m(handle, ioargs\u001B[38;5;241m.\u001B[39mmode)\n",
      "\u001B[1;31mFileNotFoundError\u001B[0m: [Errno 2] No such file or directory: '/kaggle/input/cryptocurrency-historical-prices-coingecko/bitcoin.csv'"
     ]
    }
   ],
   "execution_count": 17
  },
  {
   "cell_type": "markdown",
   "source": "df_bitcoin = pd.read_csv(\"/kaggle/input/cryptocurrency-historical-prices-coingecko/bitcoin.csv\"): Đọc dữ liệu từ tệp CSV có đường dẫn \"/kaggle/input/cryptocurrency-historical-prices-coingecko/bitcoin.csv\" vào DataFrame df_bitcoin. Đường dẫn này là một đường dẫn tới một tệp dữ liệu CSV chứa thông tin về giá lịch sử của Bitcoin.\ndf_bitcoin['date'] = pd.to_datetime(df_bitcoin['date']): Chuyển đổi cột 'date' trong DataFrame df_bitcoin thành định dạng dữ liệu datetime bằng cách sử dụng hàm pd.to_datetime(). Điều này chuyển đổi các giá trị trong cột 'date' từ chuỗi thành các đối tượng datetime, giúp xử lý và truy vấn ngày tháng một cách dễ dàng hơn.\ndf_bitcoin['date'] = df_bitcoin['date'].dt.date: Trích xuất ngày từ đối tượng datetime trong cột 'date' và gán lại vào cột 'date'. Điều này giữ lại chỉ ngày tháng (không bao gồm giờ và phút), giúp loại bỏ sự không cần thiết và tạo ra một cột 'date' mới chỉ chứa thông tin ngày tháng.\ndf_bitcoin: Cuối cùng, DataFrame df_bitcoin được hiển thị, chứa dữ liệu về giá lịch sử của Bitcoin với cột 'date' đã được chuyển đổi sang định dạng datetime và trích xuất chỉ chứa ngày tháng.\n\n\n",
   "metadata": {}
  },
  {
   "cell_type": "markdown",
   "source": "## Dự đoán giá Bitcoin lên hoặc xuống",
   "metadata": {}
  },
  {
   "cell_type": "code",
   "source": "# Let's keep things simple, let's just analyze the close price daily\ndf_bitcoin = df_bitcoin[['date', 'price']]\n\n# Let's add a column to indicate whether the price has gone up or down compared to the price yesterday\ndf_bitcoin['price_lag'] = df_bitcoin['price'].shift(1)\ndf_bitcoin = df_bitcoin[1:]\n\ndef up_or_down(price_today, price_yest):\n    if price_today > price_yest:\n        return 1\n    else:\n        return 0\n\ndf_bitcoin['up_or_down'] = df_bitcoin[['price', 'price_lag']].apply(lambda x:up_or_down(*x), axis=1)\ndf_bitcoin = df_bitcoin[['date', 'up_or_down']]\n\ndf_bitcoin",
   "metadata": {
    "execution": {
     "iopub.status.busy": "2024-04-24T07:31:21.876583Z",
     "iopub.execute_input": "2024-04-24T07:31:21.876937Z",
     "iopub.status.idle": "2024-04-24T07:31:21.948601Z",
     "shell.execute_reply.started": "2024-04-24T07:31:21.876909Z",
     "shell.execute_reply": "2024-04-24T07:31:21.946847Z"
    },
    "trusted": true
   },
   "outputs": [],
   "execution_count": null
  },
  {
   "cell_type": "markdown",
   "source": "df_bitcoin = df_bitcoin[['date', 'price']]: Dòng này chỉ giữ lại hai cột 'date' và 'price' trong DataFrame df_bitcoin, để tập trung chỉ vào giá đóng cửa hàng ngày của Bitcoin.\ndf_bitcoin['price_lag'] = df_bitcoin['price'].shift(1): Dòng này tạo một cột mới trong DataFrame df_bitcoin có tên là 'price_lag', chứa giá của Bitcoin ngày hôm trước đó. Để làm điều này, nó sử dụng hàm shift(1) để dịch chuyển dữ liệu của cột 'price' xuống một hàng, làm cho hàng đầu tiên bị thiếu.\ndf_bitcoin = df_bitcoin[1:]: Dòng này loại bỏ hàng đầu tiên của DataFrame df_bitcoin, vì hàng đầu tiên sẽ không có giá trị cho cột 'price_lag' do việc dịch chuyển.\ndef up_or_down(price_today, price_yest): ...: Đoạn mã này định nghĩa một hàm tùy chỉnh có tên là up_or_down. Hàm này nhận giá của Bitcoin ngày hôm nay và giá của Bitcoin ngày hôm trước đó, sau đó trả về 1 nếu giá hôm nay cao hơn giá hôm trước và trả về 0 nếu giá hôm nay thấp hơn hoặc bằng giá hôm trước.\ndf_bitcoin['up_or_down'] = df_bitcoin[['price', 'price_lag']].apply(lambda x:up_or_down(*x), axis=1): Dòng này áp dụng hàm up_or_down cho mỗi cặp giá trị của cột 'price' và 'price_lag' trong DataFrame df_bitcoin, thông qua phương thức apply và lambda function. Kết quả của việc này là một cột mới có tên là 'up_or_down', chứa giá trị 1 nếu giá tăng so với ngày trước đó và giá trị 0 nếu giá giảm hoặc không đổi.\ndf_bitcoin = df_bitcoin[['date', 'up_or_down']]: Dòng này chỉ giữ lại hai cột 'date' và 'up_or_down' trong DataFrame df_bitcoin, loại bỏ cột 'price' và 'price_lag'.",
   "metadata": {}
  },
  {
   "cell_type": "markdown",
   "source": "## Phân tích tình cảm bằng textblob",
   "metadata": {}
  },
  {
   "cell_type": "code",
   "source": "!pip install textblob\nfrom textblob import TextBlob",
   "metadata": {
    "execution": {
     "iopub.status.busy": "2024-04-24T07:31:21.950873Z",
     "iopub.execute_input": "2024-04-24T07:31:21.951931Z",
     "iopub.status.idle": "2024-04-24T07:31:56.419478Z",
     "shell.execute_reply.started": "2024-04-24T07:31:21.951827Z",
     "shell.execute_reply": "2024-04-24T07:31:56.417342Z"
    },
    "trusted": true
   },
   "outputs": [],
   "execution_count": null
  },
  {
   "cell_type": "code",
   "source": "def evaluate_text_polarity(text_str):\n    text_polarity = TextBlob(text_str).sentiment.polarity\n    return text_polarity\n    \nevaluate_text_polarity(df_cryptonews.loc[0,'title'])",
   "metadata": {
    "execution": {
     "iopub.status.busy": "2024-04-24T07:31:56.422609Z",
     "iopub.execute_input": "2024-04-24T07:31:56.423273Z",
     "iopub.status.idle": "2024-04-24T07:31:56.43685Z",
     "shell.execute_reply.started": "2024-04-24T07:31:56.42321Z",
     "shell.execute_reply": "2024-04-24T07:31:56.43524Z"
    },
    "trusted": true
   },
   "outputs": [],
   "execution_count": null
  },
  {
   "cell_type": "markdown",
   "source": "def evaluate_text_polarity(text_str):: Đây là cú pháp để định nghĩa một hàm Python mới có tên là evaluate_text_polarity, nhận đối số đầu vào là text_str, đại diện cho đoạn văn bản mà chúng ta muốn đánh giá tính chất cảm xúc của nó.\ntext_polarity = TextBlob(text_str).sentiment.polarity: Trong hàm này, đầu tiên chúng ta tạo một đối tượng TextBlob từ đoạn văn bản text_str. Đối tượng TextBlob này được sử dụng để phân tích ngữ cảnh của văn bản và trích xuất thông tin về cảm xúc. Sau đó, chúng ta truy cập vào thuộc tính sentiment, đại diện cho thông tin cảm xúc của văn bản, và từ đó trích xuất giá trị của polarity, đại diện cho độ tích cực hoặc tiêu cực của văn bản.\nreturn text_polarity: Cuối cùng, hàm trả về giá trị của text_polarity, tức là độ tích cực hoặc tiêu cực của đoạn văn bản đầu vào.",
   "metadata": {}
  },
  {
   "cell_type": "markdown",
   "source": "## Xuất tệp dữ liệu theo ngày",
   "metadata": {}
  },
  {
   "cell_type": "code",
   "source": "df_cryptonews['title_polarity'] = df_cryptonews['title'].apply(lambda x:evaluate_text_polarity(x))\ndf_cryptonews_polarity = df_cryptonews[['date', 'title_polarity']]\ndf_cryptonews_polarity['date'] = pd.to_datetime(df_cryptonews['date'], format='mixed')\ndf_cryptonews_polarity['date'] = df_cryptonews_polarity['date'].dt.date\ndf_cryptonews_polarity",
   "metadata": {
    "execution": {
     "iopub.status.busy": "2024-04-24T07:31:56.439015Z",
     "iopub.execute_input": "2024-04-24T07:31:56.43953Z",
     "iopub.status.idle": "2024-04-24T07:32:05.342618Z",
     "shell.execute_reply.started": "2024-04-24T07:31:56.439495Z",
     "shell.execute_reply": "2024-04-24T07:32:05.340887Z"
    },
    "trusted": true
   },
   "outputs": [],
   "execution_count": null
  },
  {
   "cell_type": "markdown",
   "source": "df_cryptonews['title_polarity'] = df_cryptonews['title'].apply(lambda x:evaluate_text_polarity(x)): Dòng này áp dụng hàm evaluate_text_polarity cho mỗi tiêu đề trong cột 'title' của DataFrame df_cryptonews bằng cách sử dụng phương thức apply và lambda function. Kết quả của việc này là một cột mới trong DataFrame df_cryptonews có tên là 'title_polarity', chứa giá trị độ tích cực hoặc tiêu cực của từng tiêu đề.\ndf_cryptonews_polarity = df_cryptonews[['date', 'title_polarity']]: Dòng này tạo một DataFrame mới df_cryptonews_polarity, chỉ chứa hai cột 'date' và 'title_polarity' từ DataFrame df_cryptonews, để tập trung vào ngày và độ tích cực hoặc tiêu cực của từng tiêu đề.\ndf_cryptonews_polarity['date'] = pd.to_datetime(df_cryptonews['date'], format='mixed'): Dòng này chuyển đổi cột 'date' trong DataFrame df_cryptonews thành định dạng datetime bằng cách sử dụng hàm pd.to_datetime(). Tham số format='mixed' chỉ định rằng cột 'date' có thể chứa một loạt định dạng ngày tháng khác nhau.\ndf_cryptonews_polarity['date'] = df_cryptonews_polarity['date'].dt.date: Dòng này trích xuất ngày từ đối tượng datetime trong cột 'date' của DataFrame df_cryptonews_polarity và gán lại vào cột 'date'. Điều này giữ lại chỉ ngày tháng (không bao gồm giờ và phút), giúp loại bỏ sự không cần thiết và tạo ra một cột 'date' mới chỉ chứa thông tin ngày tháng.\ndf_cryptonews_polarity: Cuối cùng, DataFrame df_cryptonews_polarity được hiển thị, chứa thông tin về ngày và độ tích cực hoặc tiêu cực của từng tiêu đề trong bản tin về cryptocurrency.",
   "metadata": {}
  },
  {
   "cell_type": "markdown",
   "source": "## Tỉ lệ phân cực theo ngày",
   "metadata": {}
  },
  {
   "cell_type": "code",
   "source": "# Calculate the average polarity daily\ndf_cryptonews_polarity = df_cryptonews_polarity.groupby(['date'])['title_polarity'].mean().reset_index()\ndf_cryptonews_polarity",
   "metadata": {
    "execution": {
     "iopub.status.busy": "2024-04-24T07:32:05.344894Z",
     "iopub.execute_input": "2024-04-24T07:32:05.345434Z",
     "iopub.status.idle": "2024-04-24T07:32:05.375174Z",
     "shell.execute_reply.started": "2024-04-24T07:32:05.345382Z",
     "shell.execute_reply": "2024-04-24T07:32:05.373897Z"
    },
    "trusted": true
   },
   "outputs": [],
   "execution_count": null
  },
  {
   "cell_type": "markdown",
   "source": "df_cryptonews_polarity.groupby(['date'])['title_polarity'].mean().reset_index(): Dòng này thực hiện một phép tổng hợp dữ liệu theo ngày, tính trung bình của độ tích cực hoặc tiêu cực của các tiêu đề tin tức trong mỗi ngày.\n.groupby(['date']): Phương thức này nhóm các dòng trong DataFrame theo giá trị của cột 'date'.\n['title_polarity']: Chỉ định cột 'title_polarity' là cột mà chúng ta muốn tính toán trung bình.\n.mean(): Thực hiện tính trung bình của các giá trị trong mỗi nhóm (theo ngày).\n.reset_index(): Đặt lại chỉ số của DataFrame sau khi tính toán, để có một DataFrame mới với chỉ số mặc định bắt đầu từ 0.",
   "metadata": {}
  },
  {
   "cell_type": "markdown",
   "source": "## Tính toán mối tương quan giữa phân cực tin tức và giá bitcoin\n",
   "metadata": {}
  },
  {
   "cell_type": "code",
   "source": "df_corr = pd.merge(df_cryptonews_polarity, df_bitcoin, how='inner', left_on='date', right_on='date')\ndf_corr",
   "metadata": {
    "execution": {
     "iopub.status.busy": "2024-04-24T07:32:05.376751Z",
     "iopub.execute_input": "2024-04-24T07:32:05.378181Z",
     "iopub.status.idle": "2024-04-24T07:32:05.398918Z",
     "shell.execute_reply.started": "2024-04-24T07:32:05.378145Z",
     "shell.execute_reply": "2024-04-24T07:32:05.398018Z"
    },
    "trusted": true
   },
   "outputs": [],
   "execution_count": null
  },
  {
   "cell_type": "markdown",
   "source": "pd.merge(df_cryptonews_polarity, df_bitcoin, how='inner', left_on='date', right_on='date'): Dòng này thực hiện một phép nối (merge) giữa hai DataFrame df_cryptonews_polarity và df_bitcoin dựa trên cột 'date', với kiểu nối inner (chỉ giữ lại các hàng có giá trị khớp trong cả hai DataFrame).\nhow='inner': Chỉ định kiểu nối là inner, tức là chỉ giữ lại các hàng có giá trị khớp trong cả hai DataFrame.\nleft_on='date': Chỉ định cột trong DataFrame bên trái (df_cryptonews_polarity) mà sẽ được sử dụng để nối, ở đây là cột 'date'.\nright_on='date': Chỉ định cột trong DataFrame bên phải (df_bitcoin) mà sẽ được sử dụng để nối, cũng là cột 'date'.",
   "metadata": {}
  },
  {
   "cell_type": "markdown",
   "source": "## Biểu đồ theo title phân cực với tỉ lệ lên hoặc xuống",
   "metadata": {}
  },
  {
   "cell_type": "code",
   "source": "df_corr[['title_polarity', 'up_or_down']].corr()",
   "metadata": {
    "execution": {
     "iopub.status.busy": "2024-04-24T07:32:05.400241Z",
     "iopub.execute_input": "2024-04-24T07:32:05.401278Z",
     "iopub.status.idle": "2024-04-24T07:32:05.413446Z",
     "shell.execute_reply.started": "2024-04-24T07:32:05.401246Z",
     "shell.execute_reply": "2024-04-24T07:32:05.412474Z"
    },
    "trusted": true
   },
   "outputs": [],
   "execution_count": null
  },
  {
   "cell_type": "markdown",
   "source": "df_corr[['title_polarity', 'up_or_down']]: Dòng này chọn ra một DataFrame con từ DataFrame df_corr, chỉ bao gồm hai cột 'title_polarity' và 'up_or_down'.\n.corr(): Phương thức này tính toán ma trận tương quan (correlation matrix) giữa các cặp cột trong DataFrame được chọn trước đó. Trong trường hợp này, nó sẽ tính toán tương quan giữa cột 'title_polarity' và 'up_or_down'.",
   "metadata": {}
  }
 ]
}
